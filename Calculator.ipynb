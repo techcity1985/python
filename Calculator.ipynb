{
  "nbformat": 4,
  "nbformat_minor": 0,
  "metadata": {
    "colab": {
      "provenance": [],
      "name": "Calculator.ipynb",
      "authorship_tag": "ABX9TyNPJk/oqyBZ9opa9J5tlSgN"
    },
    "kernelspec": {
      "name": "python3",
      "display_name": "Python 3"
    },
    "language_info": {
      "name": "python"
    }
  },
  "cells": [
    {
      "cell_type": "markdown",
      "source": [
        "# **DESIGN A CALCULATOR**"
      ],
      "metadata": {
        "id": "8ZFNoqfKGX39"
      }
    },
    {
      "cell_type": "markdown",
      "source": [
        "Defining the functions. Creating the arithmetic operations."
      ],
      "metadata": {
        "id": "0-u4jNLZGgvE"
      }
    },
    {
      "cell_type": "code",
      "execution_count": null,
      "metadata": {
        "id": "n1mM6ieoGXFW"
      },
      "outputs": [],
      "source": [
        "#add\n",
        "def add(x,y):\n",
        "  return x+y\n",
        "\n",
        "#subtract\n",
        "def subtract(x,y):\n",
        "  return x-y\n",
        "\n",
        "#multiplication of two numbers\n",
        "def multiply(x,y):\n",
        "  return x*y\n",
        "\n",
        "#division of two numbers\n",
        "def divide(x,y):\n",
        "  if y==0:\n",
        "    return \"Error! Division by zero.\"\n",
        "    else:\n",
        "      return x/y"
      ]
    },
    {
      "cell_type": "markdown",
      "source": [
        "Designing the main interface where the user can select the operation"
      ],
      "metadata": {
        "id": "hZUileiUH2p1"
      }
    },
    {
      "cell_type": "code",
      "source": [
        "# Function to add two numbers\n",
        "def add(x, y):\n",
        "    return x + y\n",
        "\n",
        "# Function to subtract two numbers\n",
        "def subtract(x, y):\n",
        "    return x - y\n",
        "\n",
        "# Function to multiply two numbers\n",
        "def multiply(x, y):\n",
        "    return x * y\n",
        "\n",
        "# Function to divide two numbers\n",
        "def divide(x, y):\n",
        "    if y == 0:\n",
        "        return \"Error! Division by zero.\"\n",
        "    else:\n",
        "        return x / y\n",
        "\n",
        "# Function to find the modulus of two numbers\n",
        "def modulus(x, y):\n",
        "    return x % y\n",
        "\n",
        "#Function to find exponent of a number\n",
        "def exponent(x,y):\n",
        "  return x ** y\n",
        "\n",
        "# Main calculator function\n",
        "def calculator():\n",
        "    print(\"Select operation:\")\n",
        "    print(\"1. Add\")\n",
        "    print(\"2. Subtract\")\n",
        "    print(\"3. Multiply\")\n",
        "    print(\"4. Divide\")\n",
        "    print(\"5. Modulus\")\n",
        "    print(\"6. Exponential\")\n",
        "\n",
        "    while True:\n",
        "        # Take input from the user\n",
        "        choice = input(\"Enter choice (1/2/3/4/5/6): \")\n",
        "\n",
        "        # Check if the choice is one of the valid options\n",
        "        if choice in ['1', '2', '3', '4', '5', '6']:\n",
        "            num1 = float(input(\"Enter first number: \"))\n",
        "            num2 = float(input(\"Enter second number: \"))\n",
        "\n",
        "            if choice == '1':\n",
        "                print(f\"The result is: {add(num1, num2)}\")\n",
        "\n",
        "            elif choice == '2':\n",
        "                print(f\"The result is: {subtract(num1, num2)}\")\n",
        "\n",
        "            elif choice == '3':\n",
        "                print(f\"The result is: {multiply(num1, num2)}\")\n",
        "\n",
        "            elif choice == '4':\n",
        "                print(f\"The result is: {divide(num1, num2)}\")\n",
        "\n",
        "            elif choice == '5':\n",
        "                print(f\"The result is: {modulus(num1, num2)}\")\n",
        "\n",
        "            elif choice == '6':\n",
        "                print(f\"Answer: {exponent(num1, num2)}\")\n",
        "\n",
        "            # Check if the user wants to perform another calculation\n",
        "            next_calculation = input(\"Do you want to perform another calculation? (yes/no): \")\n",
        "            if next_calculation.lower() != 'yes':\n",
        "                break\n",
        "        else:\n",
        "            print(\"Invalid Input\")\n",
        "\n",
        "# Run the calculator\n",
        "if __name__ == \"__main__\":\n",
        "    calculator()\n"
      ],
      "metadata": {
        "colab": {
          "base_uri": "https://localhost:8080/"
        },
        "id": "VNLzjxxWOrc1",
        "outputId": "3affbfa4-f642-420e-b5c9-c8a8735433cf"
      },
      "execution_count": null,
      "outputs": [
        {
          "name": "stdout",
          "output_type": "stream",
          "text": [
            "Select operation:\n",
            "1. Add\n",
            "2. Subtract\n",
            "3. Multiply\n",
            "4. Divide\n",
            "5. Modulus\n",
            "6. Exponential\n",
            "Enter choice (1/2/3/4/5/6): 6\n",
            "Enter first number: 9\n",
            "Enter second number: 2\n",
            "Answer: 81.0\n",
            "Do you want to perform another calculation? (yes/no): no\n"
          ]
        }
      ]
    }
  ]
}