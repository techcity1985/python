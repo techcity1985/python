{
  "nbformat": 4,
  "nbformat_minor": 0,
  "metadata": {
    "colab": {
      "provenance": [],
      "authorship_tag": "ABX9TyPC4c1x7uZLdEb1aaFW84nc",
      "include_colab_link": true
    },
    "kernelspec": {
      "name": "python3",
      "display_name": "Python 3"
    },
    "language_info": {
      "name": "python"
    }
  },
  "cells": [
    {
      "cell_type": "markdown",
      "metadata": {
        "id": "view-in-github",
        "colab_type": "text"
      },
      "source": [
        "<a href=\"https://colab.research.google.com/github/techcity1985/python/blob/main/Projects.ipynb\" target=\"_parent\"><img src=\"https://colab.research.google.com/assets/colab-badge.svg\" alt=\"Open In Colab\"/></a>"
      ]
    },
    {
      "cell_type": "markdown",
      "source": [
        "Create a dictionary to store the names and ages of five people. Print each name and age.\n",
        "\n"
      ],
      "metadata": {
        "id": "x9aQIlZX2aTW"
      }
    },
    {
      "cell_type": "code",
      "execution_count": null,
      "metadata": {
        "colab": {
          "base_uri": "https://localhost:8080/"
        },
        "id": "a1NrO_wS1-ql",
        "outputId": "adf25e88-ef5f-4091-dbd6-d49581341434"
      },
      "outputs": [
        {
          "output_type": "stream",
          "name": "stdout",
          "text": [
            "Alice is 24 years old.\n",
            "Henry is 10 years old.\n",
            "Mathew is 27 years old.\n",
            "James is 64 years old.\n",
            "Lindsey is 39 years old.\n"
          ]
        }
      ],
      "source": [
        "people = {\"Alice\":24, \"Henry\": 10, \"Mathew\":27, \"James\":64, \"Lindsey\":39}\n",
        "for name, age in people.items():\n",
        "  print(f\"{name} is {age} years old.\")"
      ]
    }
  ]
}